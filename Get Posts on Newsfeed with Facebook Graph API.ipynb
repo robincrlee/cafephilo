{
 "cells": [
  {
   "cell_type": "code",
   "execution_count": 1,
   "metadata": {
    "collapsed": true
   },
   "outputs": [],
   "source": [
    "import facebook"
   ]
  },
  {
   "cell_type": "code",
   "execution_count": null,
   "metadata": {
    "collapsed": false
   },
   "outputs": [],
   "source": [
    "f = open(\"token.txt\", \"r\")\n",
    "my_token = f.read()"
   ]
  },
  {
   "cell_type": "code",
   "execution_count": 3,
   "metadata": {
    "collapsed": false
   },
   "outputs": [],
   "source": [
    "\n",
    "graph = facebook.GraphAPI(access_token=my_token, version='2.9')"
   ]
  },
  {
   "cell_type": "code",
   "execution_count": 4,
   "metadata": {
    "collapsed": false
   },
   "outputs": [],
   "source": [
    "posts = graph.get_connections(id='me', connection_name='posts')"
   ]
  },
  {
   "cell_type": "code",
   "execution_count": 5,
   "metadata": {
    "collapsed": false
   },
   "outputs": [
    {
     "name": "stdout",
     "output_type": "stream",
     "text": [
      "<type 'list'>\n",
      "{u'created_time': u'2017-08-12T20:22:38+0000', u'message': u'Playing with Graph API in Python : )\\n\\n#codereviewmeplz #saturdayspm', u'id': u'10152129648047946_10155156078422946'}\n"
     ]
    }
   ],
   "source": [
    "print type(posts['data'])\n",
    "print posts['data'][0]"
   ]
  },
  {
   "cell_type": "code",
   "execution_count": 6,
   "metadata": {
    "collapsed": false
   },
   "outputs": [
    {
     "name": "stdout",
     "output_type": "stream",
     "text": [
      "<type 'dict'>\n"
     ]
    },
    {
     "data": {
      "text/plain": [
       "{u'created_time': u'2017-08-12T20:22:38+0000',\n",
       " u'id': u'10152129648047946_10155156078422946',\n",
       " u'message': u'Playing with Graph API in Python : )\\n\\n#codereviewmeplz #saturdayspm'}"
      ]
     },
     "execution_count": 6,
     "metadata": {},
     "output_type": "execute_result"
    }
   ],
   "source": [
    "r = posts['data']\n",
    "print type(r[0])\n",
    "r[0]"
   ]
  },
  {
   "cell_type": "code",
   "execution_count": null,
   "metadata": {
    "collapsed": true
   },
   "outputs": [],
   "source": [
    "for i,j in enumerate(r) :\n",
    "    print \"Post \" + str(i+1) + \":\" +  j['message'] \n",
    "    print \"Posted at \" + j['created_time']\n",
    "    print \"  \"*10"
   ]
  }
 ],
 "metadata": {
  "kernelspec": {
   "display_name": "Python 2",
   "language": "python",
   "name": "python2"
  },
  "language_info": {
   "codemirror_mode": {
    "name": "ipython",
    "version": 2
   },
   "file_extension": ".py",
   "mimetype": "text/x-python",
   "name": "python",
   "nbconvert_exporter": "python",
   "pygments_lexer": "ipython2",
   "version": "2.7.13"
  }
 },
 "nbformat": 4,
 "nbformat_minor": 2
}
