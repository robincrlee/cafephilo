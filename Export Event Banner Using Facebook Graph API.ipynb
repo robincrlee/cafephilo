{
 "cells": [
  {
   "cell_type": "code",
   "execution_count": 151,
   "metadata": {
    "collapsed": false
   },
   "outputs": [],
   "source": [
    "import itertools\n",
    "import shutil\n",
    "import requests\n",
    "\n",
    "import facebook\n"
   ]
  },
  {
   "cell_type": "code",
   "execution_count": 150,
   "metadata": {
    "collapsed": false
   },
   "outputs": [],
   "source": [
    "f = open(\"cafe_token.txt\", \"r\")\n",
    "page_token = f.read()"
   ]
  },
  {
   "cell_type": "code",
   "execution_count": 126,
   "metadata": {
    "collapsed": false
   },
   "outputs": [],
   "source": [
    "\n",
    "graph = facebook.GraphAPI(access_token=page_token, version='2.9')"
   ]
  },
  {
   "cell_type": "code",
   "execution_count": 95,
   "metadata": {
    "collapsed": true
   },
   "outputs": [],
   "source": [
    "events = graph.get_connections(id='me', connection_name='events')\n",
    "events_gen = graph.get_all_connections(id='me', connection_name='events')"
   ]
  },
  {
   "cell_type": "code",
   "execution_count": 91,
   "metadata": {
    "collapsed": false
   },
   "outputs": [
    {
     "name": "stdout",
     "output_type": "stream",
     "text": [
      "<type 'dict'>\n",
      "25\n"
     ]
    },
    {
     "data": {
      "text/plain": [
       "{u'description': u'\\u3010\\u4e3b\\u984c\\u3011\\u6c83\\u8349X\\u958b\\u653e\\u653f\\u5e9c\\uff1a\\u6d77\\u5916\\u4e5f\\u80fd\\u53c3\\u8207\\u81fa\\u7063\\u653f\\u7b56\\u768410\\u7a2e\\u65b9\\u5f0f - \\u516c\\u6c11\\u53c3\\u8207\\u7121\\u570b\\u754c\\n\\u3010\\u4e3b\\u8fa6\\u55ae\\u4f4d\\u3011\\u7d10\\u7d04\\u54f2\\u5b78\\u661f\\u671f\\u4e94\\u5fd7\\u5de5\\u5718\\u968a\\n\\u3010\\u6642\\u9593\\u301107/07 (Fri) 7:30-9:30pm\\n\\u3010\\u5730\\u9ede\\u30111460 Broadway 12F, New York, NY (WeWork C-Working Space \\u5165\\u53e3\\u572841\\u8857 \\u9910\\u5ef3\\u5927\\u6236\\u5c4b\\u65e5\\u672c\\u6599\\u7406 \\u65c1)\\n\\u3010\\u6d3b\\u52d5\\u7b56\\u5283\\u3011\\u5f90\\u6bc5\\u8ed2 \\u9ec3\\u5929\\u4eae\\n\\u3010\\u4e3b\\u8b1b\\u4eba\\u3011\\u6797\\u7956\\u5100 \\u6c83\\u8349\\u5275\\u8fa6\\u4eba\\u66a8\\u57f7\\u884c\\u9577 / \\uff30\\uff54\\uff54\\u7c89\\u65af\\u5718\\u4e3b\\u7de8 / \\u7f77\\u514d\\u6cd5\\u898f\\u63a8\\u52d5\\u8005\\n\\u3010\\u4e3b\\u6301\\u4eba\\u3011\\n\\u3010\\u8a9e\\u8a00\\u3011\\u672c\\u6b21\\u6d3b\\u52d5\\u5c07\\u4ee5\\u4e2d\\u6587\\u70ba\\u4e3b\\n\\u3010\\u5167\\u5bb9\\u7c21\\u4ecb\\u3011\\n\\u53f0\\u5317\\u6797\\u5148\\u751f\\uff0c\\u6797\\u7956\\u5100\\u64d4\\u4efb\\uff30\\uff54\\uff54\\u7c89\\u7d72\\u5718\\u4e3b\\u7de8\\u6bcf\\u65e5\\u70ba\\u6578\\u5341\\u842c\\u7c89\\u7d72\\u9078\\u6587\\u904e\\u7a0b\\u4e2d\\uff0c\\u770b\\u898b\\u53f0\\u7063\\u8a31\\u591a\\u793e\\u6703\\u8207\\u653f\\u6cbb\\u8b70\\u984c\\uff0c\\u8a8d\\u70ba\\u300e\\u5f37\\u5316\\u9078\\u8209\\u6b0a\\u3001\\u63a8\\u52d5\\u7f77\\u514d\\u6b0a\\u300f\\u662f\\u4e00\\u5207\\u7684\\u89e3\\u65b9\\uff0c\\u5b8c\\u5584\\u6c11\\u4e3b\\u7684SOP\\uff0c\\u8b93\\u5c0d\\u7684\\u653f\\u6cbb\\u4eba\\u7269\\u70ba\\u4eba\\u6c11\\u670d\\u52d9\\u3002\\u4ed6\\u6295\\u5165\\u300e\\u5272\\u95cc\\u5c3e\\u8a08\\u756b\\u300f\\u5718\\u968a\\uff0c\\u5275\\u9020\\u4e8620\\u5e74\\u4f86\\u7b2c\\u4e00\\u6b21\\u7acb\\u59d4\\u7f77\\u514d\\u6295\\u7968\\uff0c\\u4e5f\\u57282016\\u5e74\\u5e95\\u9806\\u5229\\u63a8\\u52d5\\u7f77\\u514d\\u6cd5\\u898f\\u4e0b\\u4fee\\u3002\\u4ed6\\u5275\\u8fa6\\u65b0\\u5a92\\u9ad4\\u300e\\u6c83\\u8349\\uff01Watchout\\u300f\\uff0c\\u63d0\\u4f9b\\u5927\\u773e\\u57f7\\u884c\\u653f\\u6cbb\\u76e3\\u7763\\u7684\\u5e73\\u53f0\\uff0c\\u8b93\\u6c11\\u773e\\u5728\\u975e\\u9078\\u8209\\u671f\\u9593\\u53ef\\u4ee5\\u76e3\\u7763\\u653f\\u5e9c\\uff1b\\u9078\\u8209\\u671f\\u9593\\u5247\\u63d0\\u4f9b\\u8cc7\\u8a0a\\u8b93\\u6c11\\u773e\\u5224\\u65b7\\uff0c\\u6295\\u7968\\u7d66\\u5fc3\\u76ee\\u4e2d\\u6700\\u4f73\\u7684\\u5019\\u9078\\u4eba\\u3002\\u900f\\u904e\\u9078\\u8209\\u8207\\u7f77\\u514d\\u6b0a\\uff0c\\u70ba\\u53f0\\u7063\\u5efa\\u7acb\\u66f4\\u52a0\\u5b8c\\u5584\\u7684\\u6c11\\u4e3b\\u5236\\u5ea6\\u3002\\u6c83\\u8349\\u79c9\\u6301\\u8457\\u964d\\u4f4e\\u516c\\u6c11\\u53c3\\u8207\\u653f\\u6cbb\\u7684\\u9580\\u6abb\\u3001\\u958b\\u653e\\u653f\\u5e9c\\u7684\\u7cbe\\u795e\\uff0c\\u85c9\\u7531\\u300e\\u570b\\u6703\\u7121\\u96d9\\u300f\\u3001\\u300e\\u5e02\\u9577\\u7d66\\u554f\\u55ce\\u300f\\u3001\\u300e\\u7d66\\u554f\\u64c2\\u53f0\\u300f\\uff0c\\u4ee5\\u53ca\\u5354\\u52a9\\u6253\\u9020\\u8490\\u96c6\\u6c11\\u773e\\u610f\\u898b\\u5230\\u570b\\u662f\\u6703\\u8b70\\u8b70\\u7a0b\\u7684\\u300e\\u7e3d\\u7d71\\u5e9c\\u53f8\\u6cd5\\u6539\\u9769\\u570b\\u662f\\u6703\\u8b70\\u7db2\\u7ad9\\u300f\\uff0c\\u8b93\\u6c11\\u773e\\u80fd\\u53c3\\u8207\\u6216\\u95dc\\u6ce8\\u653f\\u5e9c\\u4e8b\\u52d9\\u3002\\n\\u7f8e\\u570b\\u8207\\u81fa\\u7063\\u76f8\\u9694\\u842c\\u91cc\\uff0c\\u8ddd\\u96e2\\u64cb\\u4e0d\\u4f4f\\u5728\\u7f8e\\u7684\\u81fa\\u7063\\u4eba\\u95dc\\u6ce8\\u81fa\\u7063\\u653f\\u6cbb\\u8207\\u6642\\u4e8b\\u7684\\u71b1\\u60c5\\uff0c\\u8ddd\\u96e2\\u537b\\u53c8\\u64cb\\u4f4f\\u5728\\u7f8e\\u7684\\u81fa\\u7063\\u4eba\\u5be6\\u8cea\\u53c3\\u8207\\u81fa\\u7063\\u653f\\u6cbb\\u8207\\u6642\\u4e8b\\u7684\\u6a5f\\u6703\\u30022017\\u5e74\\u81fa\\u7063\\u300c\\u958b\\u653e\\u653f\\u5e9c\\u300d\\u6982\\u5ff5\\u7684\\u767c\\u5c55\\u8207\\u884c\\u52d5\\u7684\\u5d1b\\u8d77\\uff0c\\u8b93\\u6c11\\u773e\\u80fd\\u900f\\u904e\\u300c\\u793e\\u7fa4\\u7db2\\u8def\\u300d\\u53c3\\u8207\\u653f\\u6cbb\\u6c7a\\u7b56\\u3002\\u5982\\u4f55\\u300c\\u6d77\\u5916\\u4e5f\\u80fd\\u53c3\\u8207\\u81fa\\u7063\\u653f\\u7b56\\u300d\\uff0c\\u8b1b\\u8005\\u5c07\\u5e36\\u4f86\\u81fa\\u70632017\\u5e74\\u300c\\u958b\\u653e\\u653f\\u5e9c\\u300d\\u7684\\u6700\\u65b0\\u8da8\\u52e2\\u8207\\u6c83\\u8349\\u7b2c\\u4e00\\u624b\\u5be6\\u52d9\\u7d93\\u9a57\\uff0c\\u8b93\\u53f0\\u7f8e\\u4eba\\u80fd\\u85c9\\u7531\\u7db2\\u8def\\u5c55\\u958b\\u5be6\\u8cea\\u884c\\u52d5\\u3001\\u5f71\\u97ff\\u81fa\\u7063\\u3002\\n\\u3010\\u95dc\\u65bc\\u8b1b\\u8005\\u3011\\n\\u653f\\u5927\\u54f2\\u5b78\\u7cfb\\u3001\\u653f\\u5927\\u7d93\\u6fdf\\u6240\\u3002\\u73fe\\u4efb\\u6c83\\u8349\\u8ca0\\u8cac\\u4eba\\u3001\\u5272\\u95cc\\u5c3e\\u8a08\\u756b\\u767c\\u8a00\\u4eba\\u3001\\u81fa\\u7063\\u6700\\u5927BBS\\u7ad9Ptt\\u5b98\\u65b9\\u7c89\\u7d72\\u5718\\u4e3b\\u7de8\\u3002\\u66fe\\u4efb\\u516c\\u6c111985\\u884c\\u52d5\\u806f\\u76df\\u767c\\u8a00\\u4eba\\u30012014\\u5e74\\u592a\\u967d\\u82b1\\u904b\\u52d5\\u9109\\u6c11\\u96c6\\u8cc7\\u8cb7\\u7d10\\u7d04\\u6642\\u5831\\u5171\\u540c\\u7b56\\u5283\\u4eba\\u30022014\\u5e74\\u7d93\\u8cbf\\u570b\\u662f\\u6703\\u8b70\\u9752\\u5e74\\u4ee3\\u8868\\u30012016\\u5e74\\u9ad8\\u7b49\\u6559\\u80b2\\u8ad6\\u58c7\\u7c4c\\u5099\\u59d4\\u54e1\\u30012017\\u5e74\\u5e74\\u91d1\\u6539\\u9769\\u570b\\u662f\\u6703\\u8b70\\u9752\\u5e74\\u4ee3\\u8868\\u30012017\\u5e74\\u5168\\u570b\\u6587\\u5316\\u653f\\u7b56\\u6703\\u8b70\\u7c4c\\u5099\\u59d4\\u54e1\\u66a8\\u5be6\\u9ad4\\u6703\\u8b70\\u5f15\\u8a00\\u4eba\\u3002\\u5546\\u696d\\u5468\\u520a\\u300e\\u8ca1\\u7d93\\u65b0\\u805e\\u5100\\u9ede\\u901a\\u300f\\u5c08\\u6b04\\u4f5c\\u5bb6\\u3002\\u57ce\\u90a6\\u51fa\\u7248\\u96c6\\u5718\\u8ca1\\u91d1\\u985e\\u7c3d\\u7d04\\u4f5c\\u5bb6\\uff0c\\u8457\\u6709\\u300a\\u770b\\u8ca1\\u7d93\\u65b0\\u805e\\u89e3\\u8b80\\u7d93\\u6fdf\\u73fe\\u8c61\\u300b\\u3001\\u300a\\u8208\\u5473\\u76ce\\u7136\\u7684\\u7d93\\u6fdf\\u7406\\u8ad6\\u300b\\u8207\\u300a\\u4e00\\u518a\\u901a\\u66c9\\u5716\\u89e3\\u8ca8\\u5e63\\u5b78\\u300b\\u7b49\\u66f8\\u3002\\n\\n\\u3010\\u6d77\\u5831\\u8a2d\\u8a08\\u3011\\u9ec3\\u6620\\u798e | \\u7d10\\u7d04\\u63d2\\u756b\\u5bb6\\n\\u3010\\u6587\\u6848\\u64b0\\u5beb\\u3011\\u5f90\\u6bc5\\u8ed2\\uff5cNYU \\u5929\\u6587\\u7269\\u7406\\u78a9\\u58eb\\n\\u3010\\u7db2\\u8def\\u5ba3\\u50b3\\u3011\\u5f90\\u6bc5\\u8ed2\\uff5cNYU \\u5929\\u6587\\u7269\\u7406\\u78a9\\u58eb\\u3001\\u9ec3\\u5929\\u4eae\\n\\u3010\\u5834\\u5730\\u652f\\u63f4\\u3011\\u856d\\u65b0\\u665f\\uff5c\\u8edf\\u9ad4\\u5de5\\u7a0b\\u5e2b\\uff0c\\u7d10\\u7d04\\u65b0\\u5275\\u516c\\u53f8\\u8ca0\\u8cac\\u4eba\\n\\u3010\\u6d3b\\u52d5\\u8a18\\u9304\\u3011\\u6c5f\\u5b9c\\u7a4e\\n\\u3010\\u651d\\u5f71\\u9304\\u5f71\\u3011\\n\\u3010\\u884c\\u653f\\u5354\\u529b\\u3011Mark Min-Kang Hsieh',\n",
       " u'end_time': u'2017-07-07T21:30:00-0400',\n",
       " u'id': u'1691935461115665',\n",
       " u'name': u'\\u6c83\\u8349x\\u958b\\u653e\\u653f\\u5e9c\\uff1a\\u6d77\\u5916\\u4e5f\\u80fd\\u53c3\\u8207\\u81fa\\u7063\\u653f\\u7b56\\u768410\\u7a2e\\u65b9\\u5f0f - \\u516c\\u6c11\\u53c3\\u8207\\u7121\\u570b\\u754c',\n",
       " u'place': {u'id': u'108424279189115',\n",
       "  u'location': {u'city': u'New York',\n",
       "   u'country': u'United States',\n",
       "   u'latitude': 40.7142,\n",
       "   u'longitude': -74.0064,\n",
       "   u'state': u'NY'},\n",
       "  u'name': u'New York, NY'},\n",
       " u'start_time': u'2017-07-07T19:30:00-0400'}"
      ]
     },
     "execution_count": 91,
     "metadata": {},
     "output_type": "execute_result"
    }
   ],
   "source": [
    "print type(events)\n",
    "print len(events['data'])\n",
    "events['data'][4]"
   ]
  },
  {
   "cell_type": "code",
   "execution_count": 96,
   "metadata": {
    "collapsed": false
   },
   "outputs": [
    {
     "data": {
      "text/plain": [
       "{u'cursors': {u'after': u'QVFIUkhKM3pfX19SY2FiNlE5YS11cVFSTXpIUnItOGhxQThfbWRhbFVJUHphYkwwbkcwdmZAQTFlMbmNKa0VMLXV4Rld2QlBYeU5fSTN6TVJPd21xc3JOTUV3',\n",
       "  u'before': u'QVFIUlRMVmViSklrczZANVk9VOWpYcGxCNEpzUVZAsT0RBZAjVTZAWowVGxIdThseWM5ZAGhpTThxSkgzZAW9idnRZAQ0FMQzkyZAElaUmtQQl9PN0RkQzVmZAHh6MFNR'},\n",
       " u'next': u'https://graph.facebook.com/v2.9/349696661821984/events?access_token=EAACEdEose0cBAJ4OZCQ5yDz08ZBTnAv3SOFVe2rxroMkOPMIpTSw67xiB8MqxIjCYCKFaSfO1Sr0fbgt3a5xhClCypiOuO3vNaV2tlgiHDswFvvwGg9Gy7E4GJF28nqkmktrWQulioHrzCVeJo51fN0drtzGZAjqF7Cn4jd0azGmPR3dzCYbcQRohVLGKkZD&limit=25&after=QVFIUkhKM3pfX19SY2FiNlE5YS11cVFSTXpIUnItOGhxQThfbWRhbFVJUHphYkwwbkcwdmZAQTFlMbmNKa0VMLXV4Rld2QlBYeU5fSTN6TVJPd21xc3JOTUV3'}"
      ]
     },
     "execution_count": 96,
     "metadata": {},
     "output_type": "execute_result"
    }
   ],
   "source": [
    "events['paging']"
   ]
  },
  {
   "cell_type": "code",
   "execution_count": 97,
   "metadata": {
    "collapsed": true
   },
   "outputs": [],
   "source": [
    "## Use generator\n",
    "## http://anandology.com/python-practice-book/iterators.html#iterators\n",
    "n = 50\n",
    "result = []\n",
    "event_time = []\n",
    "try:\n",
    "    for i in range(n):\n",
    "        event = events_gen.next()\n",
    "        result.append(event['id'])\n",
    "        event_time.append(event['start_time'])\n",
    "except StopIteration:\n",
    "    pass"
   ]
  },
  {
   "cell_type": "code",
   "execution_count": 98,
   "metadata": {
    "collapsed": false
   },
   "outputs": [
    {
     "name": "stdout",
     "output_type": "stream",
     "text": [
      "[u'122001938430945', u'1593526510698289', u'210345232825656', u'843175639172717', u'1691935461115665', u'1032314246903432', u'266935497047927', u'413815852323140', u'1288177024630050', u'1315639971817115']\n",
      "[u'2017-08-18T19:30:00-0400', u'2017-07-21T19:30:00-0400', u'2017-07-18T19:30:00-0400', u'2017-07-15T19:00:00-0400', u'2017-07-07T19:30:00-0400', u'2017-06-23T19:30:00-0400', u'2017-06-10T14:00:00-0400', u'2017-05-20T13:00:00-0400', u'2017-05-13T15:00:00-0400', u'2017-05-13T13:00:00-0400']\n"
     ]
    }
   ],
   "source": [
    "print result[:10]\n",
    "print event_time[:10]"
   ]
  },
  {
   "cell_type": "code",
   "execution_count": 114,
   "metadata": {
    "collapsed": false
   },
   "outputs": [
    {
     "name": "stdout",
     "output_type": "stream",
     "text": [
      "38\n"
     ]
    }
   ],
   "source": [
    "ind = [(event_time[i] > '2016-08') & (event_time[i] < '2017-08') for i in range(50)]\n",
    "ind2 = [i for i, x in enumerate(ind) if x]\n",
    "print (len(ind2))"
   ]
  },
  {
   "cell_type": "code",
   "execution_count": 115,
   "metadata": {
    "collapsed": false
   },
   "outputs": [],
   "source": [
    "last_year_time = list(itertools.compress(event_time, ind2))"
   ]
  },
  {
   "cell_type": "code",
   "execution_count": 118,
   "metadata": {
    "collapsed": false
   },
   "outputs": [],
   "source": [
    "last_year_eid = result[:38]"
   ]
  },
  {
   "cell_type": "code",
   "execution_count": 119,
   "metadata": {
    "collapsed": false
   },
   "outputs": [
    {
     "data": {
      "text/plain": [
       "38"
      ]
     },
     "execution_count": 119,
     "metadata": {},
     "output_type": "execute_result"
    }
   ],
   "source": [
    "len(last_year_eid)"
   ]
  },
  {
   "cell_type": "code",
   "execution_count": 154,
   "metadata": {
    "collapsed": false
   },
   "outputs": [],
   "source": [
    "eid = last_year_eid[5]\n",
    "cover_photo_id = graph.get_object(eid, fields = 'cover')['cover']['id']"
   ]
  },
  {
   "cell_type": "code",
   "execution_count": 155,
   "metadata": {
    "collapsed": false
   },
   "outputs": [
    {
     "data": {
      "text/plain": [
       "u'https://scontent.xx.fbcdn.net/v/t31.0-8/18953457_759414187516894_6014320496654887927_o.jpg?oh=db893e083d3e92f89bd69bbfc27515f5&oe=5A2400E5'"
      ]
     },
     "execution_count": 155,
     "metadata": {},
     "output_type": "execute_result"
    }
   ],
   "source": [
    "graph.get_object(cover_photo_id, fields = 'images')['images'][0]['source']"
   ]
  },
  {
   "cell_type": "code",
   "execution_count": 135,
   "metadata": {
    "collapsed": false
   },
   "outputs": [
    {
     "data": {
      "text/plain": [
       "{u'1032314246903432': {u'cover': {u'id': u'759414187516894',\n",
       "   u'offset_x': 50,\n",
       "   u'offset_y': 0,\n",
       "   u'source': u'https://scontent.xx.fbcdn.net/v/t31.0-8/q92/s720x720/18953457_759414187516894_6014320496654887927_o.jpg?oh=89baf7ce0a8e58eb012365b9f008a37b&oe=5A3187BE'},\n",
       "  u'id': u'1032314246903432'},\n",
       " u'1104879439597785': {u'cover': {u'id': u'577247912400190',\n",
       "   u'offset_x': 0,\n",
       "   u'offset_y': 82,\n",
       "   u'source': u'https://scontent.xx.fbcdn.net/v/t31.0-8/s720x720/14249871_577247912400190_4488010790454104847_o.jpg?oh=0a7684ca068ba124d9ab01015c922e81&oe=5A2A817E'},\n",
       "  u'id': u'1104879439597785'},\n",
       " u'1128043697321520': {u'cover': {u'id': u'697639890360991',\n",
       "   u'offset_x': 67,\n",
       "   u'offset_y': 0,\n",
       "   u'source': u'https://scontent.xx.fbcdn.net/v/t31.0-8/s720x720/17388841_697639890360991_2353767207042547988_o.jpg?oh=ddc9c5bb92555e29c0f3446082d2885f&oe=59EE7134'},\n",
       "  u'id': u'1128043697321520'},\n",
       " u'1155966294493461': {u'cover': {u'id': u'597777333680581',\n",
       "   u'offset_x': 50,\n",
       "   u'offset_y': 0,\n",
       "   u'source': u'https://scontent.xx.fbcdn.net/v/t31.0-8/s720x720/14633215_597777333680581_4183149905646055565_o.jpg?oh=3de4e7db2e104627668ab788964fcd0c&oe=5A392A30'},\n",
       "  u'id': u'1155966294493461'},\n",
       " u'1208521565892948': {u'cover': {u'id': u'653663061425341',\n",
       "   u'offset_x': 50,\n",
       "   u'offset_y': 0,\n",
       "   u'source': u'https://scontent.xx.fbcdn.net/v/t1.0-9/s720x720/15940530_653663061425341_9088818834537918718_n.png?oh=415fe3bcd7d22896c3f03f08d8b6ac13&oe=59EB241C'},\n",
       "  u'id': u'1208521565892948'},\n",
       " u'122001938430945': {u'cover': {u'id': u'808901179234861',\n",
       "   u'offset_x': 0,\n",
       "   u'offset_y': 50,\n",
       "   u'source': u'https://scontent.xx.fbcdn.net/v/t1.0-0/p180x540/20638708_808901179234861_1100261901664724724_n.jpg?oh=7f6353d5992e2351cea4a93dd100d7f2&oe=5A36B5BD'},\n",
       "  u'id': u'122001938430945'},\n",
       " u'1228582783906718': {u'cover': {u'id': u'708030879321892',\n",
       "   u'offset_x': 67,\n",
       "   u'offset_y': 0,\n",
       "   u'source': u'https://scontent.xx.fbcdn.net/v/t31.0-8/s720x720/17635563_708030879321892_243978247746455842_o.jpg?oh=3c9aa145c7afd950085bf88064e0ce08&oe=5A1EDEE9'},\n",
       "  u'id': u'1228582783906718'},\n",
       " u'1231229903664947': {u'cover': {u'id': u'682363521888628',\n",
       "   u'offset_x': 0,\n",
       "   u'offset_y': 0,\n",
       "   u'source': u'https://scontent.xx.fbcdn.net/v/t31.0-8/s720x720/17017123_682363521888628_5182742994771429708_o.jpg?oh=4a38d1d140106865a608d7535f67d51e&oe=5A21DF45'},\n",
       "  u'id': u'1231229903664947'},\n",
       " u'1241708452584415': {u'cover': {u'id': u'667927199998927',\n",
       "   u'offset_x': 0,\n",
       "   u'offset_y': 50,\n",
       "   u'source': u'https://scontent.xx.fbcdn.net/v/t31.0-8/s720x720/16487669_667927199998927_8423179762283092763_o.jpg?oh=dd438d9d8440d77a2e7d065800da1b89&oe=5A1D3EE0'},\n",
       "  u'id': u'1241708452584415'},\n",
       " u'1254524254591614': {u'cover': {u'id': u'1789587311330088',\n",
       "   u'offset_x': 0,\n",
       "   u'offset_y': 50,\n",
       "   u'source': u'https://scontent.xx.fbcdn.net/v/t31.0-8/s720x720/14524579_1789587311330088_7169889411489752551_o.jpg?oh=d4e3606690f4f8caf00d4a2acf7df3e4&oe=59ECCCA6'},\n",
       "  u'id': u'1254524254591614'},\n",
       " u'1288177024630050': {u'cover': {u'id': u'737295043062142',\n",
       "   u'offset_x': 0,\n",
       "   u'offset_y': 0,\n",
       "   u'source': u'https://scontent.xx.fbcdn.net/v/t31.0-8/s720x720/18358581_737295043062142_6223608657153720678_o.jpg?oh=37779612817d6b0fa6b799a1dec939e6&oe=5A24AB96'},\n",
       "  u'id': u'1288177024630050'},\n",
       " u'1302180123134051': {u'cover': {u'id': u'566153793509602',\n",
       "   u'offset_x': 50,\n",
       "   u'offset_y': 0,\n",
       "   u'source': u'https://scontent.xx.fbcdn.net/v/t31.0-8/s720x720/14066236_566153793509602_1591016243786104841_o.jpg?oh=0e590a3ca0e8cf14f98fc9db79bb012f&oe=5A349165'},\n",
       "  u'id': u'1302180123134051'},\n",
       " u'1315639971817115': {u'cover': {u'id': u'731953896929590',\n",
       "   u'offset_x': 67,\n",
       "   u'offset_y': 0,\n",
       "   u'source': u'https://scontent.xx.fbcdn.net/v/t31.0-8/s720x720/18216509_731953896929590_3095186108874413560_o.jpg?oh=6d3de93921beebf2a69a0d380fa29905&oe=59F32350'},\n",
       "  u'id': u'1315639971817115'},\n",
       " u'1334770289883669': {u'cover': {u'id': u'562722610519387',\n",
       "   u'offset_x': 50,\n",
       "   u'offset_y': 0,\n",
       "   u'source': u'https://scontent.xx.fbcdn.net/v/t1.0-9/s720x720/14045718_562722610519387_7562142452221155495_n.jpg?oh=bbf6896172e4aaa2e56bdf754721cd5a&oe=5A233C64'},\n",
       "  u'id': u'1334770289883669'},\n",
       " u'1338434642884900': {u'cover': {u'id': u'691292874329026',\n",
       "   u'offset_x': 50,\n",
       "   u'offset_y': 0,\n",
       "   u'source': u'https://scontent.xx.fbcdn.net/v/t31.0-8/q84/s720x720/17191888_691292874329026_1399442505300675734_o.jpg?oh=6fee1af66d49c97ef50f233133d03820&oe=5A358BE3'},\n",
       "  u'id': u'1338434642884900'},\n",
       " u'1593526510698289': {u'cover': {u'id': u'780881048703541',\n",
       "   u'offset_x': 0,\n",
       "   u'offset_y': 0,\n",
       "   u'source': u'https://scontent.xx.fbcdn.net/v/t31.0-8/s720x720/19679355_780881048703541_7087964657363307051_o.jpg?oh=4fe591633f5bb3a2da7ad484e8de38ea&oe=59EE1EE0'},\n",
       "  u'id': u'1593526510698289'},\n",
       " u'1652608121712518': {u'cover': {u'id': u'687204851404495',\n",
       "   u'offset_x': 0,\n",
       "   u'offset_y': 0,\n",
       "   u'source': u'https://scontent.xx.fbcdn.net/v/t31.0-8/s720x720/17097399_687204851404495_5684928226332464444_o.jpg?oh=ffe685ec4fbb1d6926802cb32297236a&oe=5A2E3226'},\n",
       "  u'id': u'1652608121712518'},\n",
       " u'1691935461115665': {u'cover': {u'id': u'774802202644759',\n",
       "   u'offset_x': 586,\n",
       "   u'offset_y': 0,\n",
       "   u'source': u'https://scontent.xx.fbcdn.net/v/t31.0-8/s720x720/19477556_774802202644759_5601058869946879857_o.jpg?oh=5418e4e639038a047557641af4f4a8ec&oe=59EEC040'},\n",
       "  u'id': u'1691935461115665'},\n",
       " u'1735002503486417': {u'cover': {u'id': u'631549300303384',\n",
       "   u'offset_x': 50,\n",
       "   u'offset_y': 0,\n",
       "   u'source': u'https://scontent.xx.fbcdn.net/v/t31.0-8/s720x720/15304595_631549300303384_4112647611533304439_o.jpg?oh=ec236ee899ddcce844713194453d5f74&oe=59F4215A'},\n",
       "  u'id': u'1735002503486417'},\n",
       " u'1762176910759011': {u'cover': {u'id': u'727541120704201',\n",
       "   u'offset_x': 0,\n",
       "   u'offset_y': 0,\n",
       "   u'source': u'https://scontent.xx.fbcdn.net/v/t1.0-9/s720x720/18058038_727541120704201_8763199214527181727_n.jpg?oh=b072853be0affdc1b06ff63633fd56bc&oe=5A219C65'},\n",
       "  u'id': u'1762176910759011'},\n",
       " u'1767274946869191': {u'cover': {u'id': u'644931155631865',\n",
       "   u'offset_x': 0,\n",
       "   u'offset_y': 50,\n",
       "   u'source': u'https://scontent.xx.fbcdn.net/v/t31.0-8/s720x720/15777084_644931155631865_29833147520703542_o.jpg?oh=34cf9ba7d77e22d0cc19a98c0f560ce3&oe=5A38F6A4'},\n",
       "  u'id': u'1767274946869191'},\n",
       " u'1789761398018505': {u'cover': {u'id': u'701405739984406',\n",
       "   u'offset_x': 50,\n",
       "   u'offset_y': 0,\n",
       "   u'source': u'https://scontent.xx.fbcdn.net/v/t31.0-8/q92/s720x720/17504247_701405739984406_7927114064398657449_o.jpg?oh=6c928e717a0f2e77b9a3cfd8122e90c7&oe=5A338D8D'},\n",
       "  u'id': u'1789761398018505'},\n",
       " u'1794502320811358': {u'cover': {u'id': u'603255706466077',\n",
       "   u'offset_x': 50,\n",
       "   u'offset_y': 0,\n",
       "   u'source': u'https://scontent.xx.fbcdn.net/v/t31.0-8/q84/s720x720/14884526_603255706466077_4283605291301019564_o.jpg?oh=7fc3a9f6cc596c0a2734b05000a28386&oe=5A300419'},\n",
       "  u'id': u'1794502320811358'},\n",
       " u'1824797781171661': {u'cover': {u'id': u'722178631240450',\n",
       "   u'offset_x': 67,\n",
       "   u'offset_y': 0,\n",
       "   u'source': u'https://scontent.xx.fbcdn.net/v/t31.0-8/s720x720/17990581_722178631240450_5321333010373674287_o.jpg?oh=22a045b1a12f893bddf2b87b447b67b5&oe=5A2A3501'},\n",
       "  u'id': u'1824797781171661'},\n",
       " u'2099994313560159': {u'cover': {u'id': u'667920756666238',\n",
       "   u'offset_x': 67,\n",
       "   u'offset_y': 0,\n",
       "   u'source': u'https://scontent.xx.fbcdn.net/v/t1.0-9/s720x720/16388420_667920756666238_786568069706403538_n.jpg?oh=ae664839b5d25d01f979cb08d127f04d&oe=5A1D38D3'},\n",
       "  u'id': u'2099994313560159'},\n",
       " u'210345232825656': {u'cover': {u'id': u'788948214563491',\n",
       "   u'offset_x': 50,\n",
       "   u'offset_y': 0,\n",
       "   u'source': u'https://scontent.xx.fbcdn.net/v/t31.0-8/q86/s720x720/19983350_788948214563491_3601412466676727427_o.jpg?oh=df4c49d71574e10e3144fac9f138162b&oe=5A31C7B4'},\n",
       "  u'id': u'210345232825656'},\n",
       " u'266935497047927': {u'cover': {u'id': u'755277484597231',\n",
       "   u'offset_x': 0,\n",
       "   u'offset_y': 50,\n",
       "   u'source': u'https://scontent.xx.fbcdn.net/v/t1.0-0/p180x540/18767505_755277484597231_773868880749790394_n.jpg?oh=104498ed9cb11d95019695439c576a65&oe=59F11B79'},\n",
       "  u'id': u'266935497047927'},\n",
       " u'268228863621684': {u'cover': {u'id': u'699607250164255',\n",
       "   u'offset_x': 50,\n",
       "   u'offset_y': 0,\n",
       "   u'source': u'https://scontent.xx.fbcdn.net/v/t31.0-8/s720x720/17388988_699607250164255_3373281322349778898_o.jpg?oh=535852533e6bfa7550024a7ae62c95ca&oe=59EE9582'},\n",
       "  u'id': u'268228863621684'},\n",
       " u'334860976882297': {u'cover': {u'id': u'621418757983105',\n",
       "   u'offset_x': 50,\n",
       "   u'offset_y': 0,\n",
       "   u'source': u'https://scontent.xx.fbcdn.net/v/t31.0-8/s720x720/15128983_621418757983105_740649664721769600_o.jpg?oh=f63cdec380fabbe6ebd6aaf9a126f7d8&oe=59F0937B'},\n",
       "  u'id': u'334860976882297'},\n",
       " u'335084210174091': {u'cover': {u'id': u'580602285398086',\n",
       "   u'offset_x': 0,\n",
       "   u'offset_y': 50,\n",
       "   u'source': u'https://scontent.xx.fbcdn.net/v/t31.0-8/s720x720/14305207_580602285398086_3690539250358481136_o.jpg?oh=817db8b1e1eedd940cd47dcd85608e97&oe=5A370CAD'},\n",
       "  u'id': u'335084210174091'},\n",
       " u'410562169323785': {u'cover': {u'id': u'721760527948927',\n",
       "   u'offset_x': 0,\n",
       "   u'offset_y': 0,\n",
       "   u'source': u'https://scontent.xx.fbcdn.net/v/t31.0-8/s720x720/17991468_721760527948927_3120056413032068210_o.jpg?oh=f20a74d78a799f987c3c590c3e57b4f0&oe=59F39AB7'},\n",
       "  u'id': u'410562169323785'},\n",
       " u'413815852323140': {u'cover': {u'id': u'742939109164402',\n",
       "   u'offset_x': 243,\n",
       "   u'offset_y': 0,\n",
       "   u'source': u'https://scontent.xx.fbcdn.net/v/t31.0-8/s720x720/18449659_742939109164402_835147057011120706_o.jpg?oh=464ec97f53533239e0cf481ebd62f26f&oe=5A34DD72'},\n",
       "  u'id': u'413815852323140'},\n",
       " u'465148417206974': {u'cover': {u'id': u'661933313931649',\n",
       "   u'offset_x': 933,\n",
       "   u'offset_y': 0,\n",
       "   u'source': u'https://scontent.xx.fbcdn.net/v/t1.0-9/s720x720/16195567_661933313931649_8837747388155980530_n.jpg?oh=a5321432801d757850c6de400159df62&oe=5A1CF842'},\n",
       "  u'id': u'465148417206974'},\n",
       " u'525646324311582': {u'cover': {u'id': u'590381921086789',\n",
       "   u'offset_x': 0,\n",
       "   u'offset_y': 50,\n",
       "   u'source': u'https://scontent.xx.fbcdn.net/v/t31.0-8/q88/s720x720/14566328_590381921086789_1670658929344168606_o.jpg?oh=6597146b3ce0d68625ba66c1a8b2f2b3&oe=59ED7264'},\n",
       "  u'id': u'525646324311582'},\n",
       " u'550768318445508': {u'cover': {u'id': u'620019808123000',\n",
       "   u'offset_x': 50,\n",
       "   u'offset_y': 0,\n",
       "   u'source': u'https://scontent.xx.fbcdn.net/v/t31.0-8/s720x720/15003346_620019808123000_3785954512050306502_o.jpg?oh=cc12310a5ab9811edddb689b30093831&oe=5A2115C1'},\n",
       "  u'id': u'550768318445508'},\n",
       " u'625038704349009': {u'cover': {u'id': u'673913312733649',\n",
       "   u'offset_x': 0,\n",
       "   u'offset_y': 50,\n",
       "   u'source': u'https://scontent.xx.fbcdn.net/v/t31.0-8/s720x720/16722668_673913312733649_8020495569062409061_o.jpg?oh=04b4ea36cbd1e51a3fbac15eba0877b9&oe=5A26FA01'},\n",
       "  u'id': u'625038704349009'},\n",
       " u'843175639172717': {u'cover': {u'id': u'10155049867567946',\n",
       "   u'offset_x': 67,\n",
       "   u'offset_y': 0,\n",
       "   u'source': u'https://scontent.xx.fbcdn.net/v/t1.0-9/s720x720/19884239_10155049867567946_5302225196445275616_n.jpg?oh=a1d75f35c7e35e716ee7dfae9eef2bb7&oe=5A201B8D'},\n",
       "  u'id': u'843175639172717'},\n",
       " u'854177811348916': {u'cover': {u'id': u'587216461403335',\n",
       "   u'offset_x': 67,\n",
       "   u'offset_y': 0,\n",
       "   u'source': u'https://scontent.xx.fbcdn.net/v/t1.0-9/s720x720/14479686_587216461403335_6493727489480752054_n.jpg?oh=5467aa2404a33686f03a4c129d00e3a5&oe=5A2DA70C'},\n",
       "  u'id': u'854177811348916'}}"
      ]
     },
     "execution_count": 135,
     "metadata": {},
     "output_type": "execute_result"
    }
   ],
   "source": [
    "cover_photo_ids = [graph.get_objects(last_year_eid, fields = 'cover')[i]['cover'] for i in range(38)   ]"
   ]
  },
  {
   "cell_type": "code",
   "execution_count": 156,
   "metadata": {
    "collapsed": false
   },
   "outputs": [
    {
     "data": {
      "text/plain": [
       "u'759414187516894'"
      ]
     },
     "execution_count": 156,
     "metadata": {},
     "output_type": "execute_result"
    }
   ],
   "source": [
    "graph.get_objects(last_year_eid, fields = 'cover')[eid]['cover']['id']"
   ]
  },
  {
   "cell_type": "code",
   "execution_count": 161,
   "metadata": {
    "collapsed": true
   },
   "outputs": [],
   "source": [
    "def get_cover_photo_id(eid): # input:event id # output: cover photo's id\n",
    "    return graph.get_object(eid, fields = 'cover')['cover']['id']\n",
    "\n",
    "def get_largest_image_url(photo_id): \n",
    "    #input: a photo id \n",
    "    #output: a link that contains the largest image\n",
    "    return graph.get_object(photo_id, fields = 'images')['images'][0]['source']"
   ]
  },
  {
   "cell_type": "code",
   "execution_count": 158,
   "metadata": {
    "collapsed": false
   },
   "outputs": [
    {
     "data": {
      "text/plain": [
       "u'759414187516894'"
      ]
     },
     "execution_count": 158,
     "metadata": {},
     "output_type": "execute_result"
    }
   ],
   "source": [
    "get_cover_photo_id(eid)"
   ]
  },
  {
   "cell_type": "code",
   "execution_count": 169,
   "metadata": {
    "collapsed": false
   },
   "outputs": [
    {
     "data": {
      "text/plain": [
       "{u'id': u'759414187516894',\n",
       " u'images': [{u'height': 630,\n",
       "   u'source': u'https://scontent.xx.fbcdn.net/v/t31.0-8/18953457_759414187516894_6014320496654887927_o.jpg?oh=db893e083d3e92f89bd69bbfc27515f5&oe=5A2400E5',\n",
       "   u'width': 1702},\n",
       "  {u'height': 600,\n",
       "   u'source': u'https://scontent.xx.fbcdn.net/v/t31.0-0/q85/p600x600/18953457_759414187516894_6014320496654887927_o.jpg?oh=76b1b7899f53735ebaa7f326d028899f&oe=5A2D6EF8',\n",
       "   u'width': 1620},\n",
       "  {u'height': 480,\n",
       "   u'source': u'https://scontent.xx.fbcdn.net/v/t31.0-0/q85/p480x480/18953457_759414187516894_6014320496654887927_o.jpg?oh=7de7638a8e53efc9943211ce5edc9e7c&oe=5A268B18',\n",
       "   u'width': 1296},\n",
       "  {u'height': 320,\n",
       "   u'source': u'https://scontent.xx.fbcdn.net/v/t31.0-0/q84/p320x320/18953457_759414187516894_6014320496654887927_o.jpg?oh=0627a97758c5d9fe333c4dae2a20dbde&oe=5A334E7D',\n",
       "   u'width': 864},\n",
       "  {u'height': 540,\n",
       "   u'source': u'https://scontent.xx.fbcdn.net/v/t31.0-0/q84/p180x540/18953457_759414187516894_6014320496654887927_o.jpg?oh=a2c52f3b54e7aeebffc05e614f03a862&oe=5A3508C0',\n",
       "   u'width': 1458},\n",
       "  {u'height': 130,\n",
       "   u'source': u'https://scontent.xx.fbcdn.net/v/t1.0-0/q84/p130x130/18893143_759414187516894_6014320496654887927_n.jpg?oh=b020fab8ea60b54376ae220411459605&oe=59EB620B',\n",
       "   u'width': 351},\n",
       "  {u'height': 225,\n",
       "   u'source': u'https://scontent.xx.fbcdn.net/v/t1.0-0/q84/p75x225/18893143_759414187516894_6014320496654887927_n.jpg?oh=87fdcef35b6d9ce3b53677e004af9f69&oe=59EDBA41',\n",
       "   u'width': 608}]}"
      ]
     },
     "execution_count": 169,
     "metadata": {},
     "output_type": "execute_result"
    }
   ],
   "source": [
    "graph.get_object('759414187516894', fields = 'images')"
   ]
  },
  {
   "cell_type": "markdown",
   "metadata": {},
   "source": [
    "### Let's test it out"
   ]
  },
  {
   "cell_type": "code",
   "execution_count": 162,
   "metadata": {
    "collapsed": false
   },
   "outputs": [],
   "source": [
    "url = get_largest_image_url(get_cover_photo_id(eid))"
   ]
  },
  {
   "cell_type": "code",
   "execution_count": 163,
   "metadata": {
    "collapsed": true
   },
   "outputs": [],
   "source": [
    "response = requests.get(url, stream=True)\n",
    "img_name = eid + '.png'\n",
    "with open(img_name, 'wb') as out_file:\n",
    "    shutil.copyfileobj(response.raw, out_file)\n",
    "del response"
   ]
  },
  {
   "cell_type": "markdown",
   "metadata": {},
   "source": [
    "### Put it in a function\n",
    "\n"
   ]
  },
  {
   "cell_type": "code",
   "execution_count": 164,
   "metadata": {
    "collapsed": true
   },
   "outputs": [],
   "source": [
    "def get_image(url, filename):\n",
    "    response = requests.get(url, stream=True)\n",
    "    img_name = filename + '.png'\n",
    "    with open(img_name, 'wb') as out_file:\n",
    "        shutil.copyfileobj(response.raw, out_file)\n",
    "    del response"
   ]
  },
  {
   "cell_type": "code",
   "execution_count": 170,
   "metadata": {
    "collapsed": true
   },
   "outputs": [],
   "source": [
    "def get_event_largest_image(eid):\n",
    "    photo_id = get_cover_photo_id(eid)\n",
    "    image_url = get_largest_image_url(photo_id)\n",
    "    # print image_url\n",
    "    get_image(image_url, eid)"
   ]
  },
  {
   "cell_type": "code",
   "execution_count": 171,
   "metadata": {
    "collapsed": false
   },
   "outputs": [
    {
     "name": "stdout",
     "output_type": "stream",
     "text": [
      "https://scontent.xx.fbcdn.net/v/t1.0-9/20638708_808901179234861_1100261901664724724_n.jpg?oh=93944a5defd81075d507f3b3539e6786&oe=5A21B7E1\n",
      "https://scontent.xx.fbcdn.net/v/t31.0-8/19679355_780881048703541_7087964657363307051_o.jpg?oh=e2068083846ca59d68b5bce464a50473&oe=59EBC275\n",
      "https://scontent.xx.fbcdn.net/v/t31.0-8/19983350_788948214563491_3601412466676727427_o.jpg?oh=ffd0de31aad8bfff2228eb5c30ab7653&oe=5A32F322\n",
      "https://scontent.xx.fbcdn.net/v/t1.0-9/19884239_10155049867567946_5302225196445275616_n.jpg?oh=454172ee9e513a30600d8970d26a8859&oe=5A2F6966\n",
      "https://scontent.xx.fbcdn.net/v/t31.0-8/19477556_774802202644759_5601058869946879857_o.jpg?oh=1bd63594112dbdeda5922fbac47d9292&oe=59F2C1D5\n",
      "https://scontent.xx.fbcdn.net/v/t31.0-8/18953457_759414187516894_6014320496654887927_o.jpg?oh=db893e083d3e92f89bd69bbfc27515f5&oe=5A2400E5\n",
      "https://scontent.xx.fbcdn.net/v/t1.0-9/18767505_755277484597231_773868880749790394_n.jpg?oh=dd1d91001079e39f592dd326fc73e55d&oe=5A1DEA99\n",
      "https://scontent.xx.fbcdn.net/v/t31.0-8/18449659_742939109164402_835147057011120706_o.jpg?oh=5c6c5956f7c7ec35a46b070e4ef990e2&oe=5A2F2172\n",
      "https://scontent.xx.fbcdn.net/v/t31.0-8/18358581_737295043062142_6223608657153720678_o.jpg?oh=eafa8d3294d1b305df2e87e9c90d0020&oe=5A2EE803\n",
      "https://scontent.xx.fbcdn.net/v/t31.0-8/18216509_731953896929590_3095186108874413560_o.jpg?oh=ae0d2127a8774e33c0f368bcb8c6ee91&oe=5A2A9EC5\n",
      "https://scontent.xx.fbcdn.net/v/t31.0-8/17990581_722178631240450_5321333010373674287_o.jpg?oh=c81464e85d7e013059b935e6203816f6&oe=5A287394\n",
      "https://scontent.xx.fbcdn.net/v/t1.0-9/18058038_727541120704201_8763199214527181727_n.jpg?oh=c50a9f78d3d1eece01e85b562694a905&oe=59EE6007\n",
      "https://scontent.xx.fbcdn.net/v/t31.0-8/17991468_721760527948927_3120056413032068210_o.jpg?oh=515d2e397d61ce567c29f5129f28bea7&oe=5A239422\n",
      "https://scontent.xx.fbcdn.net/v/t31.0-8/17635563_708030879321892_243978247746455842_o.jpg?oh=024e86f128bcd6ecf1fb75ce641d714c&oe=5A2DE5E9\n",
      "https://scontent.xx.fbcdn.net/v/t31.0-8/17504247_701405739984406_7927114064398657449_o.jpg?oh=25f8f30035675e3cecac63ccb7883505&oe=5A2C4BD6\n",
      "https://scontent.xx.fbcdn.net/v/t31.0-8/17388841_697639890360991_2353767207042547988_o.jpg?oh=7c0be7b9dbf3bd48a6b9cc1dffcdbeba&oe=5A31E8A1\n",
      "https://scontent.xx.fbcdn.net/v/t31.0-8/17388988_699607250164255_3373281322349778898_o.jpg?oh=afb7ea789767fb487dac618269a365c4&oe=5A239D17\n",
      "https://scontent.xx.fbcdn.net/v/t31.0-8/17097399_687204851404495_5684928226332464444_o.jpg?oh=3f5fadb1230b900a9c3bb05a4f9709d0&oe=5A339DB3\n",
      "https://scontent.xx.fbcdn.net/v/t31.0-8/17191888_691292874329026_1399442505300675734_o.jpg?oh=6ffc275a08bb0c48232f970940a2a12d&oe=5A33EB0B\n",
      "https://scontent.xx.fbcdn.net/v/t31.0-8/17017123_682363521888628_5182742994771429708_o.jpg?oh=90788a7a12e8803fe5cb043e4dd36c09&oe=5A32BBD0\n",
      "https://scontent.xx.fbcdn.net/v/t31.0-8/16722668_673913312733649_8020495569062409061_o.jpg?oh=85caaa02fcb06ce4f92ffcee02b61f1d&oe=5A255C94\n",
      "https://scontent.xx.fbcdn.net/v/t1.0-9/16388420_667920756666238_786568069706403538_n.jpg?oh=e035ed1fed766eb873b89888de1751aa&oe=5A310697\n",
      "https://scontent.xx.fbcdn.net/v/t31.0-8/16487669_667927199998927_8423179762283092763_o.jpg?oh=90fed01c02c5250fd39f62438a9be7e3&oe=5A23D975\n",
      "https://scontent.xx.fbcdn.net/v/t1.0-9/16195567_661933313931649_8837747388155980530_n.jpg?oh=0ec4e64b991a29e97bc4681cc43e3635&oe=5A1D0F20\n",
      "https://scontent.xx.fbcdn.net/v/t31.0-8/15777084_644931155631865_29833147520703542_o.jpg?oh=348075b4b6ce794d59100ef26fa4f9b2&oe=5A27AEBA\n",
      "https://scontent.xx.fbcdn.net/v/t1.0-9/15940530_653663061425341_9088818834537918718_n.png?oh=c3c5c25be7317ff222b1e0aa56a324be&oe=59EE7C7E\n",
      "https://scontent.xx.fbcdn.net/v/t31.0-8/15128983_621418757983105_740649664721769600_o.jpg?oh=414b2da6be87197aeab027497c51a351&oe=59EE197B\n",
      "https://scontent.xx.fbcdn.net/v/t31.0-8/15304595_631549300303384_4112647611533304439_o.jpg?oh=3e93eacb58bce4d49fecb06fc99fcf77&oe=59EE4ACF\n",
      "https://scontent.xx.fbcdn.net/v/t31.0-8/15003346_620019808123000_3785954512050306502_o.jpg?oh=fe8147140bde9810d42f5e110b86f757&oe=5A34A754\n",
      "https://scontent.xx.fbcdn.net/v/t31.0-8/14524579_1789587311330088_7169889411489752551_o.jpg?oh=835111a73117f75793a43cee82e260da&oe=59F353BA\n",
      "https://scontent.xx.fbcdn.net/v/t31.0-8/14884526_603255706466077_4283605291301019564_o.jpg?oh=d88edd86eaa66a146972a0708eea54f9&oe=5A378DF1\n",
      "https://scontent.xx.fbcdn.net/v/t31.0-8/14633215_597777333680581_4183149905646055565_o.jpg?oh=65e0ce0c23a50ad7e1bb5ad1a2b8fa6e&oe=5A349FA5\n",
      "https://scontent.xx.fbcdn.net/v/t31.0-8/14566328_590381921086789_1670658929344168606_o.jpg?oh=953af0079feb45ff394803b2b1300770&oe=5A29F74B\n",
      "https://scontent.xx.fbcdn.net/v/t1.0-9/14479686_587216461403335_6493727489480752054_n.jpg?oh=17b603b5dde1823197f2def3ba9dcfd8&oe=5A2A4F6E\n",
      "https://scontent.xx.fbcdn.net/v/t31.0-8/14305207_580602285398086_3690539250358481136_o.jpg?oh=72685aeb0689ec8d65baf9b48faffe5e&oe=5A1FF538\n",
      "https://scontent.xx.fbcdn.net/v/t31.0-8/14249871_577247912400190_4488010790454104847_o.jpg?oh=4f0ffc37f1e0a998f7b66c3b49a61658&oe=5A34ACEB\n",
      "https://scontent.xx.fbcdn.net/v/t31.0-8/14066236_566153793509602_1591016243786104841_o.jpg?oh=083ffdee94dec9a531c9897df9650a1b&oe=5A287DF0\n",
      "https://scontent.xx.fbcdn.net/v/t1.0-9/14045718_562722610519387_7562142452221155495_n.jpg?oh=ccd6344091589e0c754bd2ec8b3ec137&oe=59F00C06\n"
     ]
    },
    {
     "data": {
      "text/plain": [
       "[None,\n",
       " None,\n",
       " None,\n",
       " None,\n",
       " None,\n",
       " None,\n",
       " None,\n",
       " None,\n",
       " None,\n",
       " None,\n",
       " None,\n",
       " None,\n",
       " None,\n",
       " None,\n",
       " None,\n",
       " None,\n",
       " None,\n",
       " None,\n",
       " None,\n",
       " None,\n",
       " None,\n",
       " None,\n",
       " None,\n",
       " None,\n",
       " None,\n",
       " None,\n",
       " None,\n",
       " None,\n",
       " None,\n",
       " None,\n",
       " None,\n",
       " None,\n",
       " None,\n",
       " None,\n",
       " None,\n",
       " None,\n",
       " None,\n",
       " None]"
      ]
     },
     "execution_count": 171,
     "metadata": {},
     "output_type": "execute_result"
    }
   ],
   "source": [
    "dl_images = [get_event_largest_image(eid) for eid in last_year_eid]"
   ]
  },
  {
   "cell_type": "code",
   "execution_count": null,
   "metadata": {
    "collapsed": true
   },
   "outputs": [],
   "source": []
  }
 ],
 "metadata": {
  "kernelspec": {
   "display_name": "Python 2",
   "language": "python",
   "name": "python2"
  },
  "language_info": {
   "codemirror_mode": {
    "name": "ipython",
    "version": 2
   },
   "file_extension": ".py",
   "mimetype": "text/x-python",
   "name": "python",
   "nbconvert_exporter": "python",
   "pygments_lexer": "ipython2",
   "version": "2.7.13"
  }
 },
 "nbformat": 4,
 "nbformat_minor": 2
}
